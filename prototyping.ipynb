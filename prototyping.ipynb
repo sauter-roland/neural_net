{
 "cells": [
  {
   "cell_type": "markdown",
   "metadata": {
    "toc": true
   },
   "source": [
    "<h1>Table of Contents<span class=\"tocSkip\"></span></h1>\n",
    "<div class=\"toc\"><ul class=\"toc-item\"></ul></div>"
   ]
  },
  {
   "cell_type": "code",
   "execution_count": 1,
   "metadata": {
    "ExecuteTime": {
     "end_time": "2020-03-25T17:27:45.789028Z",
     "start_time": "2020-03-25T17:27:45.784806Z"
    }
   },
   "outputs": [],
   "source": [
    "import numpy as np"
   ]
  },
  {
   "cell_type": "code",
   "execution_count": 16,
   "metadata": {
    "ExecuteTime": {
     "end_time": "2020-04-01T18:11:31.789288Z",
     "start_time": "2020-04-01T18:11:31.739605Z"
    }
   },
   "outputs": [],
   "source": [
    "class NeuralNet:\n",
    "    \"\"\"\n",
    "    Implementation of a complete neural net\n",
    "    \"\"\"\n",
    "    \n",
    "    def __init__(self, nodes, learning_rate=.3):\n",
    "        self.input_nodes = nodes[0]\n",
    "        self.output_nodes = nodes[2]\n",
    "        self.hidden_nodes = nodes[1]\n",
    "        \n",
    "        self.learning_rate = learning_rate\n",
    "        \n",
    "        self._init_weights()\n",
    "    \n",
    "    def __str__(self):\n",
    "        return_str = '\\n'.join([\n",
    "            f'Neural network with node setup: ({self.input_nodes}, {self.hidden_nodes}, {self.output_nodes})',\n",
    "        ])\n",
    "        return return_str\n",
    "    \n",
    "    def train(self, training_x, training_y):\n",
    "        pass\n",
    "    \n",
    "    def predict(self, prediction_x):\n",
    "        pass\n",
    "    \n",
    "    def _init_weights(self):\n",
    "        self.w_in_hidden = np.random.rand(self.input_nodes, self.hidden_nodes)\n",
    "        self.w_hidden_out = np.random.rand(self.hidden_nodes, self.output_nodes)\n",
    "    \n",
    "    def _backprop(self):\n",
    "        pass\n",
    "    "
   ]
  },
  {
   "cell_type": "code",
   "execution_count": 20,
   "metadata": {
    "ExecuteTime": {
     "end_time": "2020-04-01T18:15:20.662032Z",
     "start_time": "2020-04-01T18:15:20.647997Z"
    }
   },
   "outputs": [],
   "source": [
    "def test_init():\n",
    "    nn = NeuralNet((2, 3, 2))\n",
    "    shape_weights_in_hidden = nn.w_in_hidden.shape\n",
    "    shape_weights_hidden_out = nn.w_hidden_out.shape\n",
    "    assert(shape_weights_in_hidden == (2, 3))\n",
    "    assert(shape_weights_hidden_out == (3, 2))"
   ]
  },
  {
   "cell_type": "code",
   "execution_count": 21,
   "metadata": {
    "ExecuteTime": {
     "end_time": "2020-04-01T18:15:22.492069Z",
     "start_time": "2020-04-01T18:15:22.483816Z"
    }
   },
   "outputs": [
    {
     "name": "stdout",
     "output_type": "stream",
     "text": [
      "Neural network with node setup: (2, 3, 2)\n"
     ]
    }
   ],
   "source": [
    "nn = NeuralNet((2,3,2))\n",
    "print(nn)"
   ]
  },
  {
   "cell_type": "code",
   "execution_count": 22,
   "metadata": {
    "ExecuteTime": {
     "end_time": "2020-04-01T18:15:24.952258Z",
     "start_time": "2020-04-01T18:15:24.943945Z"
    }
   },
   "outputs": [],
   "source": [
    "test_init()"
   ]
  }
 ],
 "metadata": {
  "kernelspec": {
   "display_name": "Python 3",
   "language": "python",
   "name": "python3"
  },
  "language_info": {
   "codemirror_mode": {
    "name": "ipython",
    "version": 3
   },
   "file_extension": ".py",
   "mimetype": "text/x-python",
   "name": "python",
   "nbconvert_exporter": "python",
   "pygments_lexer": "ipython3",
   "version": "3.8.2"
  },
  "toc": {
   "base_numbering": 1,
   "nav_menu": {},
   "number_sections": true,
   "sideBar": true,
   "skip_h1_title": false,
   "title_cell": "Table of Contents",
   "title_sidebar": "Contents",
   "toc_cell": true,
   "toc_position": {},
   "toc_section_display": true,
   "toc_window_display": false
  },
  "varInspector": {
   "cols": {
    "lenName": 16,
    "lenType": 16,
    "lenVar": 40
   },
   "kernels_config": {
    "python": {
     "delete_cmd_postfix": "",
     "delete_cmd_prefix": "del ",
     "library": "var_list.py",
     "varRefreshCmd": "print(var_dic_list())"
    },
    "r": {
     "delete_cmd_postfix": ") ",
     "delete_cmd_prefix": "rm(",
     "library": "var_list.r",
     "varRefreshCmd": "cat(var_dic_list()) "
    }
   },
   "types_to_exclude": [
    "module",
    "function",
    "builtin_function_or_method",
    "instance",
    "_Feature"
   ],
   "window_display": false
  }
 },
 "nbformat": 4,
 "nbformat_minor": 2
}
